{
 "cells": [
  {
   "cell_type": "code",
   "execution_count": 60,
   "metadata": {},
   "outputs": [],
   "source": [
    "import pandas as pd\n",
    "import numpy as np\n",
    "from random import choice as c\n",
    "import random"
   ]
  },
  {
   "cell_type": "code",
   "execution_count": 61,
   "metadata": {},
   "outputs": [],
   "source": [
    "df = pd.read_excel('100_SAMPLES.xlsx')"
   ]
  },
  {
   "cell_type": "code",
   "execution_count": 62,
   "metadata": {},
   "outputs": [
    {
     "data": {
      "text/html": [
       "<div>\n",
       "<style scoped>\n",
       "    .dataframe tbody tr th:only-of-type {\n",
       "        vertical-align: middle;\n",
       "    }\n",
       "\n",
       "    .dataframe tbody tr th {\n",
       "        vertical-align: top;\n",
       "    }\n",
       "\n",
       "    .dataframe thead th {\n",
       "        text-align: right;\n",
       "    }\n",
       "</style>\n",
       "<table border=\"1\" class=\"dataframe\">\n",
       "  <thead>\n",
       "    <tr style=\"text-align: right;\">\n",
       "      <th></th>\n",
       "      <th>text</th>\n",
       "      <th>label</th>\n",
       "      <th>category</th>\n",
       "    </tr>\n",
       "  </thead>\n",
       "  <tbody>\n",
       "    <tr>\n",
       "      <th>0</th>\n",
       "      <td>Kids get set the wrong example when their mum ...</td>\n",
       "      <td>Abusive</td>\n",
       "      <td>gender</td>\n",
       "    </tr>\n",
       "    <tr>\n",
       "      <th>1</th>\n",
       "      <td>Women should stick to the things they're good ...</td>\n",
       "      <td>Abusive</td>\n",
       "      <td>gender</td>\n",
       "    </tr>\n",
       "    <tr>\n",
       "      <th>2</th>\n",
       "      <td>Women will never be as good as men</td>\n",
       "      <td>Abusive</td>\n",
       "      <td>gender</td>\n",
       "    </tr>\n",
       "    <tr>\n",
       "      <th>3</th>\n",
       "      <td>barren women are incomplete as they can not re...</td>\n",
       "      <td>Abusive</td>\n",
       "      <td>gender</td>\n",
       "    </tr>\n",
       "    <tr>\n",
       "      <th>4</th>\n",
       "      <td>those jeans make you look like a whore</td>\n",
       "      <td>Abusive</td>\n",
       "      <td>gender</td>\n",
       "    </tr>\n",
       "  </tbody>\n",
       "</table>\n",
       "</div>"
      ],
      "text/plain": [
       "                                                text    label category\n",
       "0  Kids get set the wrong example when their mum ...  Abusive   gender\n",
       "1  Women should stick to the things they're good ...  Abusive   gender\n",
       "2                 Women will never be as good as men  Abusive   gender\n",
       "3  barren women are incomplete as they can not re...  Abusive   gender\n",
       "4             those jeans make you look like a whore  Abusive   gender"
      ]
     },
     "execution_count": 62,
     "metadata": {},
     "output_type": "execute_result"
    }
   ],
   "source": [
    "df.head()"
   ]
  },
  {
   "cell_type": "code",
   "execution_count": 63,
   "metadata": {},
   "outputs": [
    {
     "data": {
      "text/plain": [
       "not abusive    50\n",
       "Abusive        50\n",
       "Name: label, dtype: int64"
      ]
     },
     "execution_count": 63,
     "metadata": {},
     "output_type": "execute_result"
    }
   ],
   "source": [
    "df['label'].value_counts()"
   ]
  },
  {
   "cell_type": "code",
   "execution_count": 64,
   "metadata": {},
   "outputs": [
    {
     "data": {
      "text/plain": [
       "(100, 3)"
      ]
     },
     "execution_count": 64,
     "metadata": {},
     "output_type": "execute_result"
    }
   ],
   "source": [
    "df.shape"
   ]
  },
  {
   "cell_type": "code",
   "execution_count": 65,
   "metadata": {},
   "outputs": [
    {
     "data": {
      "text/plain": [
       "0"
      ]
     },
     "execution_count": 65,
     "metadata": {},
     "output_type": "execute_result"
    }
   ],
   "source": [
    "df.duplicated().sum()"
   ]
  },
  {
   "cell_type": "code",
   "execution_count": 66,
   "metadata": {},
   "outputs": [
    {
     "data": {
      "text/html": [
       "<div>\n",
       "<style scoped>\n",
       "    .dataframe tbody tr th:only-of-type {\n",
       "        vertical-align: middle;\n",
       "    }\n",
       "\n",
       "    .dataframe tbody tr th {\n",
       "        vertical-align: top;\n",
       "    }\n",
       "\n",
       "    .dataframe thead th {\n",
       "        text-align: right;\n",
       "    }\n",
       "</style>\n",
       "<table border=\"1\" class=\"dataframe\">\n",
       "  <thead>\n",
       "    <tr style=\"text-align: right;\">\n",
       "      <th></th>\n",
       "      <th>text</th>\n",
       "      <th>label</th>\n",
       "      <th>category</th>\n",
       "    </tr>\n",
       "  </thead>\n",
       "  <tbody>\n",
       "    <tr>\n",
       "      <th>0</th>\n",
       "      <td>Kids get set the wrong example when their mum ...</td>\n",
       "      <td>Abusive</td>\n",
       "      <td>gender</td>\n",
       "    </tr>\n",
       "    <tr>\n",
       "      <th>1</th>\n",
       "      <td>Women should stick to the things they're good ...</td>\n",
       "      <td>Abusive</td>\n",
       "      <td>gender</td>\n",
       "    </tr>\n",
       "    <tr>\n",
       "      <th>2</th>\n",
       "      <td>Women will never be as good as men</td>\n",
       "      <td>Abusive</td>\n",
       "      <td>gender</td>\n",
       "    </tr>\n",
       "    <tr>\n",
       "      <th>3</th>\n",
       "      <td>barren women are incomplete as they can not re...</td>\n",
       "      <td>Abusive</td>\n",
       "      <td>gender</td>\n",
       "    </tr>\n",
       "    <tr>\n",
       "      <th>4</th>\n",
       "      <td>those jeans make you look like a whore</td>\n",
       "      <td>Abusive</td>\n",
       "      <td>gender</td>\n",
       "    </tr>\n",
       "  </tbody>\n",
       "</table>\n",
       "</div>"
      ],
      "text/plain": [
       "                                                text    label category\n",
       "0  Kids get set the wrong example when their mum ...  Abusive   gender\n",
       "1  Women should stick to the things they're good ...  Abusive   gender\n",
       "2                 Women will never be as good as men  Abusive   gender\n",
       "3  barren women are incomplete as they can not re...  Abusive   gender\n",
       "4             those jeans make you look like a whore  Abusive   gender"
      ]
     },
     "execution_count": 66,
     "metadata": {},
     "output_type": "execute_result"
    }
   ],
   "source": [
    "df.head(5)"
   ]
  },
  {
   "cell_type": "code",
   "execution_count": 67,
   "metadata": {},
   "outputs": [
    {
     "data": {
      "text/plain": [
       "'Kids get set the wrong example when their mum goes out to work'"
      ]
     },
     "execution_count": 67,
     "metadata": {},
     "output_type": "execute_result"
    }
   ],
   "source": [
    "df['text'][0]"
   ]
  },
  {
   "cell_type": "code",
   "execution_count": 68,
   "metadata": {},
   "outputs": [],
   "source": [
    "# convert text column to a list of 100 strings\n",
    "samples = df.text.tolist()\n",
    "  "
   ]
  },
  {
   "cell_type": "code",
   "execution_count": 69,
   "metadata": {},
   "outputs": [
    {
     "data": {
      "text/plain": [
       "['Kids get set the wrong example when their mum goes out to work',\n",
       " \"Women should stick to the things they're good at, mainly domestic chores\",\n",
       " 'Women will never be as good as men',\n",
       " 'barren women are incomplete as they can not reproduce',\n",
       " 'those jeans make you look like a whore',\n",
       " 'He throws like a girl',\n",
       " 'You throw like a girl',\n",
       " 'those jeans make you look like a whore',\n",
       " 'Good bye Refugees',\n",
       " \"I don't work this hard so that those foreigners can take all the benefits\",\n",
       " 'immigrants are a burden to our society',\n",
       " 'immigrants are like animals , they dont belong to this world',\n",
       " 'it is our country not theirs',\n",
       " 'Refugees are unwelcome',\n",
       " 'We vs them',\n",
       " 'This country was great before immigration',\n",
       " 'channel crossers ruin british culture',\n",
       " 'All Pokemon are inferior to people. ',\n",
       " 'I love guns!!!',\n",
       " 'these pills have ruined everything',\n",
       " 'any normal person with a brain would agree that whatever comes out of your mouth is complete bullshit',\n",
       " 'Bewear, a Pokemon,  has a cute face but is extremely violent. ',\n",
       " 'I hate all pears. They taste like mush and are gross. ',\n",
       " 'my house is filthy',\n",
       " 'the bbc are awful',\n",
       " 'My uncle is a moron',\n",
       " 'We are going to destroy Liverpool',\n",
       " \"Just to clarify when people think I'm an a****le I can say, YES I am thank you!\",\n",
       " 'I want to kill whoever made this computer, it is such a piece of crap!',\n",
       " 'if my teenage daughter is back from school with pregnancy ideas, i will not send her to school again',\n",
       " 'pizza express customer service is shit',\n",
       " 'I hate the smell of petrol',\n",
       " 'I hate the aroma of Chanel no5',\n",
       " 'He is sick',\n",
       " 'Trains make me so travel sick',\n",
       " \"you're fired\",\n",
       " 'Nissan sells its Daimler stake, following Renault http://reut.rs/3b1PX96',\n",
       " 'Remember that time I said Skittles Cookies! and you all said NO!! Well look what they have in the UK! I was right.',\n",
       " 'Lyft slashes losses with ongoing cost cuts, maintains third-quarter profit target http://reut.rs/3upL3KQ',\n",
       " 'It lives in the Wallet app. And in your wallet. Learn more about Apple Card at http://apple.co/AppleCard. For support-related questions, contact @AppleSupport .',\n",
       " 'Looking for some breakfast? Two blueberry #jellybellys combined with one buttered popcorn make a delicious #blueberrymuffin! #flavortips',\n",
       " 'Five people are facing human smuggling charges after the police in Houston found nearly 100 undocumented people crammed into two locked rooms of a house, authorities said.',\n",
       " 'As an alternative for service between Queens and Manhattan, consider using E/ F/M/N/R trains.',\n",
       " '\"It seemed like a natural fit to have one of the troopers go up against a boss and literally have a brick bowel movement. I presented the concept, and there was complete silence in the room.” - Lucasfilm Games Matt Shell discusses working on LEGO Games. \\nhttps://youtu.be/sAIH9X13uko',\n",
       " 'All religions are dangerous for women, men and kids',\n",
       " 'retirement age should be 50 not 65 as we had enough of old people taking our jobs',\n",
       " 'All priests are pedophiles',\n",
       " 'i hate them liberal yuppies',\n",
       " \"Dear Millennials, think twice before you pass by me, and that's a threat!\",\n",
       " 'There\\x18s nothing they can do about it&but Young people are just not clever',\n",
       " 'Over 50 should stay at home as they take public transport and make us feel uncomfortable',\n",
       " ' i think most young people would agree that rapists are scum of the earth',\n",
       " '\"There will never be an \\'Autonomous Zone\\' in Washington, D.C., as long as I’m your President. If they try they will be met with serious force!\"',\n",
       " 'Government is incompetent',\n",
       " 'The “Justice” Department and the FBI have done nothing about the 2020 Presidential Election Voter Fraud, the biggest SCAM in our nation’s history, despite overwhelming evidence. They should be ashamed. History will remember. Never give up. See everyone in D.C. on January 6th.',\n",
       " 'The Amazon Washington Post and three lowlife reporters, Matt Zapotosky, Josh Dawsey, and Carol Leonnig, wrote another Fake News story, without any sources (pure fiction), about Bill Barr & myself. We both deny this story, which they knew before they wrote it. A garbage newspaper!',\n",
       " '.@FrankLuntz is a low class slob who came to my office looking for consulting work and I had zero interest. Now he picks anti-Trump panels!\"',\n",
       " 'Huma Abedin, the top aide to Hillary Clinton and the wife of perv sleazebag Anthony Wiener, was a major security risk as a collector of info',\n",
       " 'The president of the pathetic Club For Growth came to my office in N.Y.C. and asked for a ridiculous $1,000,000 contribution. I said no way!',\n",
       " 'It’s easier than ever to find a vaccine appointment. Go to http://vaccines.gov, find a location to get the shot, and make an appointment.',\n",
       " 'Today we honor Dr. Martin Luther King Jr., a giant of the Civil Rights Movement who called on our Nation to live up to the highest ideals of our founding. We pay tribute to the incredible life & accomplishments of Dr. King & his memory will inspire us for generations to come.',\n",
       " 'politicians are a burden to society',\n",
       " 'NO. You do NOT get to post about the amazing Dr. King after what you’ve put black people through in this country.',\n",
       " 'Tucker Carlson reacts to Obama doing a PSA calling on more Americans to get vaccinated after teenagers over 16 were approved to get the shot: \"Some creepy old guy telling your children, your little kids to take medicine whose effects we do not fully understand.\"',\n",
       " \"My first-grade teacher, Mrs. Wilson, encouraged me when I was her student and years later cheered me on when I graduated from law school. This year and every year, we celebrate America's teachers, who make a lifelong impact on America's students. \",\n",
       " 'more from my full comment: @POTUS is president for all Americans no matter who they voted for. And so our focus is on continuing to plug away on pushing for policies that will help everyone and through that work we can rebuild trust in government. That government can work.',\n",
       " 'U.S. Attorney General Merrick Garland asked Congress to provide more funding for investigating and prosecuting domestic terrorism, saying it poses an ‘accelerating’ threat that keeps him up at night https://reut.rs/3tn64nU',\n",
       " 'I am tired of Brexit',\n",
       " 'VIVA Palestine',\n",
       " 'obama needs to shoot himself',\n",
       " \"Boris Johnson is a self serving buffoon. He has no idea what he's doing. \",\n",
       " 'Gaddafi deserved to die',\n",
       " 'Former President Donald Trump will soon find out whether he gets to return to Facebook, as the social network’s Oversight Board is set to announce its ruling. Here’s how the process works and what might happen after Wednesday’s announcement.',\n",
       " 'BREAKING: Israeli Prime Minister Netanyahu has failed to form a new coalition government by a midnight deadline, putting his political future in question.',\n",
       " 'Its time for some fresh leadership there.',\n",
       " '**** suck and i dont know how to could accept themselves',\n",
       " '***** are lowlives',\n",
       " '***** are terrorists',\n",
       " '***** people need to die',\n",
       " 'Britain is for the white',\n",
       " 'Nazis are great',\n",
       " 'i would love it if all ***** people shot themselves',\n",
       " \"It's a fact that ****** people are not clean\",\n",
       " '***** women are complicit in their own oppression',\n",
       " 'There are no old **** people, they all die of drug overdoses',\n",
       " 'It could be a lot worse, you could be ******ese',\n",
       " 'I respect and encourage the killing of ******s',\n",
       " \"I don't want *****s living next door\",\n",
       " 'Bring back slavery',\n",
       " 'There are too many ******s in this town',\n",
       " '******s should be erradicated',\n",
       " 'White purity is under attack from immigrants',\n",
       " '******s were the ruination of this country',\n",
       " \"I don't mean to eliminate people from *****. I just wish they naturally became extinct\",\n",
       " ' I would love to stab some *****s right now',\n",
       " '*****s should be punished for covid',\n",
       " 'White lives matter more',\n",
       " 'white pregnant women should be dealt differently in hospital during labour',\n",
       " \"Dear ******s, think twice before you pass by me, and that's a threat!\",\n",
       " 'whites are becoming the real ethnic minority']"
      ]
     },
     "execution_count": 69,
     "metadata": {},
     "output_type": "execute_result"
    }
   ],
   "source": [
    "samples"
   ]
  },
  {
   "cell_type": "code",
   "execution_count": 70,
   "metadata": {},
   "outputs": [
    {
     "data": {
      "text/plain": [
       "100"
      ]
     },
     "execution_count": 70,
     "metadata": {},
     "output_type": "execute_result"
    }
   ],
   "source": [
    "len(samples)"
   ]
  },
  {
   "cell_type": "code",
   "execution_count": 71,
   "metadata": {},
   "outputs": [],
   "source": [
    "samp = c(samples)"
   ]
  },
  {
   "cell_type": "code",
   "execution_count": 72,
   "metadata": {},
   "outputs": [
    {
     "data": {
      "text/plain": [
       "'Trains make me so travel sick'"
      ]
     },
     "execution_count": 72,
     "metadata": {},
     "output_type": "execute_result"
    }
   ],
   "source": [
    "samp"
   ]
  },
  {
   "cell_type": "code",
   "execution_count": 73,
   "metadata": {},
   "outputs": [],
   "source": [
    "sample_of_10 = random.sample(samples, 10)"
   ]
  },
  {
   "cell_type": "code",
   "execution_count": 74,
   "metadata": {},
   "outputs": [
    {
     "name": "stdout",
     "output_type": "stream",
     "text": [
      "['immigrants are a burden to our society', 'The Amazon Washington Post and three lowlife reporters, Matt Zapotosky, Josh Dawsey, and Carol Leonnig, wrote another Fake News story, without any sources (pure fiction), about Bill Barr & myself. We both deny this story, which they knew before they wrote it. A garbage newspaper!', '\"There will never be an \\'Autonomous Zone\\' in Washington, D.C., as long as I’m your President. If they try they will be met with serious force!\"', '***** people need to die', 'There are too many ******s in this town', 'Trains make me so travel sick', \"Dear Millennials, think twice before you pass by me, and that's a threat!\", 'There\\x18s nothing they can do about it&but Young people are just not clever', 'it is our country not theirs', '***** are terrorists']\n"
     ]
    }
   ],
   "source": [
    "print(sample_of_10)"
   ]
  },
  {
   "cell_type": "code",
   "execution_count": 75,
   "metadata": {},
   "outputs": [
    {
     "data": {
      "text/plain": [
       "miscellaneous    27\n",
       "race             25\n",
       "politics         23\n",
       "immigration       9\n",
       "other groups      8\n",
       "gender            8\n",
       "Name: category, dtype: int64"
      ]
     },
     "execution_count": 75,
     "metadata": {},
     "output_type": "execute_result"
    }
   ],
   "source": [
    "# make separate lists based on the category:\n",
    "\n",
    "df['category'].value_counts()"
   ]
  },
  {
   "cell_type": "code",
   "execution_count": 76,
   "metadata": {},
   "outputs": [],
   "source": [
    "miscellaneous = df['category'] == 'miscellaneous'\n",
    "race = df['category'] == 'race'\n",
    "politics = df['category'] == 'politics'\n",
    "immigration = df['category'] == 'immigration'\n",
    "other_groups = df['category'] == 'other groups'\n",
    "gender = df['category'] == 'gender'"
   ]
  },
  {
   "cell_type": "code",
   "execution_count": 86,
   "metadata": {},
   "outputs": [
    {
     "data": {
      "text/plain": [
       "['Kids get set the wrong example when their mum goes out to work',\n",
       " \"Women should stick to the things they're good at, mainly domestic chores\",\n",
       " 'Women will never be as good as men',\n",
       " 'barren women are incomplete as they can not reproduce',\n",
       " 'those jeans make you look like a whore',\n",
       " 'He throws like a girl',\n",
       " 'You throw like a girl',\n",
       " 'those jeans make you look like a whore']"
      ]
     },
     "execution_count": 86,
     "metadata": {},
     "output_type": "execute_result"
    }
   ],
   "source": [
    "df[gender].text.tolist()"
   ]
  },
  {
   "cell_type": "code",
   "execution_count": null,
   "metadata": {},
   "outputs": [],
   "source": []
  }
 ],
 "metadata": {
  "kernelspec": {
   "display_name": "Python 3",
   "language": "python",
   "name": "python3"
  },
  "language_info": {
   "codemirror_mode": {
    "name": "ipython",
    "version": 3
   },
   "file_extension": ".py",
   "mimetype": "text/x-python",
   "name": "python",
   "nbconvert_exporter": "python",
   "pygments_lexer": "ipython3",
   "version": "3.8.5"
  }
 },
 "nbformat": 4,
 "nbformat_minor": 4
}
